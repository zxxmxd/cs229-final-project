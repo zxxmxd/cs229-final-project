{
 "cells": [
  {
   "cell_type": "markdown",
   "metadata": {},
   "source": [
    "# word2vec"
   ]
  },
  {
   "cell_type": "code",
   "execution_count": 530,
   "metadata": {},
   "outputs": [],
   "source": [
    "import pandas as pd\n",
    "import random\n",
    "import os\n",
    "import gensim\n",
    "import csv\n",
    "import nltk as nl\n",
    "from sklearn.linear_model import LogisticRegression\n",
    "import naive_bayes\n",
    "import numpy as np\n",
    "from sklearn.metrics import confusion_matrix\n",
    "from sklearn.model_selection import train_test_split\n",
    "from gensim.models.word2vec import Word2Vec\n",
    "\n",
    "messages = []\n",
    "labels = []\n",
    "with open(\"balanced.tsv\", 'r', newline='', encoding='utf8') as tsv_file:\n",
    "    reader = csv.reader(tsv_file, delimiter='\\t')\n",
    "    for label, message in reader:\n",
    "        if label != '':\n",
    "            messages.append(message)\n",
    "            labels.append(1 if label == '1' else 0)\n",
    "tokens = []\n",
    "for sentence in messages:\n",
    "    tokens.append(naive_bayes.get_words(sentence))\n",
    "# model = gensim.models.Word2Vec(tokens, size=100, min_count=1, workers=4, window = 5, sg = 1)\n",
    "\n",
    "# mean = np.zeros(100)\n",
    "# for token in tokens: # len(tokens) = 668\n",
    "#     mean = np.zeros(100)\n",
    "#     for word in token:\n",
    "#         ind = model.wv.vocab[word].index # dict key: 'female', value: self defined object, ind 9\n",
    "#         mean = np.add(mean, model.wv.syn0[ind]) # list: syn0[9] = female vector\n",
    "#     length = 1\n",
    "#     if len(token) != 0:\n",
    "#         length = len(token)\n",
    "#     output.append(np.true_divide(mean, length))\n",
    "\n",
    "# print(model.wv.vocab['female'].index)\n",
    "# print(model.wv.syn0[0])"
   ]
  },
  {
   "cell_type": "code",
   "execution_count": 483,
   "metadata": {},
   "outputs": [],
   "source": [
    "model = Word2Vec(size=100, min_count=2, workers=4, window=7)\n",
    "model.build_vocab([x for x in tokens])\n",
    "model.train(tokens, total_examples=model.corpus_count, epochs=model.epochs)\n",
    "output = []\n",
    "for i in range(len(labels)):\n",
    "    output.append(model_doc.infer_vector(tokens[i], steps=20))"
   ]
  },
  {
   "cell_type": "markdown",
   "metadata": {},
   "source": [
    "# split data"
   ]
  },
  {
   "cell_type": "code",
   "execution_count": 484,
   "metadata": {},
   "outputs": [],
   "source": [
    "labels = np.asarray(labels)\n",
    "output = np.asarray(output)\n",
    "train_output, test_output, train_label, test_label = train_test_split(output, labels, test_size=0.2, random_state=42)"
   ]
  },
  {
   "cell_type": "markdown",
   "metadata": {},
   "source": [
    "# logistic regression"
   ]
  },
  {
   "cell_type": "code",
   "execution_count": 485,
   "metadata": {},
   "outputs": [
    {
     "name": "stdout",
     "output_type": "stream",
     "text": [
      "0.6666666666666666\n"
     ]
    }
   ],
   "source": [
    "clf = LogisticRegression(random_state=0, solver='lbfgs').fit(train_output, train_label)\n",
    "score = clf.score(test_output, test_label)\n",
    "print(score)"
   ]
  },
  {
   "cell_type": "code",
   "execution_count": 486,
   "metadata": {},
   "outputs": [
    {
     "data": {
      "text/plain": [
       "array([[308,  52],\n",
       "       [145, 175]], dtype=int64)"
      ]
     },
     "execution_count": 486,
     "metadata": {},
     "output_type": "execute_result"
    }
   ],
   "source": [
    "out = clf.predict(train_output)\n",
    "confusion_matrix(train_label, out )"
   ]
  },
  {
   "cell_type": "code",
   "execution_count": 234,
   "metadata": {},
   "outputs": [],
   "source": [
    "from matplotlib import pyplot\n",
    "from sklearn.metrics import roc_curve\n",
    "from sklearn.metrics import roc_auc_score"
   ]
  },
  {
   "cell_type": "code",
   "execution_count": 461,
   "metadata": {},
   "outputs": [
    {
     "name": "stdout",
     "output_type": "stream",
     "text": [
      "No Skill: ROC AUC=0.500\n",
      "Logistic: ROC AUC=0.688\n"
     ]
    },
    {
     "data": {
      "image/png": "[encoded data removed]",
      "text/plain": [
       "<Figure size 432x288 with 1 Axes>"
      ]
     },
     "metadata": {
      "needs_background": "light"
     },
     "output_type": "display_data"
    }
   ],
   "source": [
    "ns_probs = [0 for _ in range(len(test_label))]\n",
    "lr_probs = clf.predict_proba(test_output)\n",
    "lr_probs = lr_probs[:, 1]\n",
    "ns_auc = roc_auc_score(test_label, ns_probs)\n",
    "lr_auc = roc_auc_score(test_label, lr_probs)\n",
    "print('No Skill: ROC AUC=%.3f' % (ns_auc))\n",
    "print('Logistic: ROC AUC=%.3f' % (lr_auc))\n",
    "ns_fpr, ns_tpr, _ = roc_curve(test_label, ns_probs)\n",
    "lr_fpr, lr_tpr, _ = roc_curve(test_label, lr_probs)\n",
    "pyplot.plot(ns_fpr, ns_tpr, linestyle='--', label='No Skill')\n",
    "pyplot.plot(lr_fpr, lr_tpr, marker='.', label='Logistic')\n",
    "pyplot.xlabel('False Positive Rate')\n",
    "pyplot.ylabel('True Positive Rate')\n",
    "pyplot.legend()\n",
    "pyplot.show()"
   ]
  },
  {
   "cell_type": "markdown",
   "metadata": {},
   "source": [
    "# XGBoost"
   ]
  },
  {
   "cell_type": "code",
   "execution_count": 464,
   "metadata": {},
   "outputs": [],
   "source": [
    "w2v_weights = model.wv.vectors\n",
    "vocab_size, embedding_size = w2v_weights.shape"
   ]
  },
  {
   "cell_type": "code",
   "execution_count": 12,
   "metadata": {
    "scrolled": false
   },
   "outputs": [
    {
     "name": "stdout",
     "output_type": "stream",
     "text": [
      "Collecting xgboost\n",
      "  Downloading https://files.pythonhosted.org/packages/6f/93/23cb1690fca5281c33107548a1a473244e921519ff06ed71adfe3a864e93/xgboost-1.2.1-py3-none-win_amd64.whl (86.5MB)\n",
      "Requirement already satisfied: scipy in d:\\anaconda\\lib\\site-packages (from xgboost) (1.3.1)\n",
      "Requirement already satisfied: numpy in d:\\anaconda\\lib\\site-packages (from xgboost) (1.16.5)\n",
      "Installing collected packages: xgboost\n",
      "Successfully installed xgboost-1.2.1\n"
     ]
    }
   ],
   "source": [
    "import sys\n",
    "!{sys.executable} -m pip install xgboost"
   ]
  },
  {
   "cell_type": "code",
   "execution_count": 487,
   "metadata": {},
   "outputs": [],
   "source": [
    "import xgboost as xgb\n",
    "from sklearn.metrics import auc, accuracy_score, confusion_matrix, mean_squared_error"
   ]
  },
  {
   "cell_type": "code",
   "execution_count": 495,
   "metadata": {},
   "outputs": [
    {
     "name": "stdout",
     "output_type": "stream",
     "text": [
      "[[69 23]\n",
      " [19 60]]\n"
     ]
    }
   ],
   "source": [
    "xgb_model = xgb.XGBClassifier(objective=\"binary:logistic\", random_state=42)\n",
    "xgb_model.fit(np.array(train_output), np.array(train_label))\n",
    "print(confusion_matrix(test_label, xgb_model.predict(test_output)))"
   ]
  },
  {
   "cell_type": "code",
   "execution_count": 518,
   "metadata": {},
   "outputs": [
    {
     "data": {
      "text/plain": [
       "0.7543859649122807"
      ]
     },
     "execution_count": 518,
     "metadata": {},
     "output_type": "execute_result"
    }
   ],
   "source": [
    "(69+60)/(19+23+69+60)"
   ]
  },
  {
   "cell_type": "code",
   "execution_count": 540,
   "metadata": {},
   "outputs": [
    {
     "data": {
      "text/plain": [
       "0.6885"
      ]
     },
     "execution_count": 540,
     "metadata": {},
     "output_type": "execute_result"
    }
   ],
   "source": [
    "(.710+.667)/2"
   ]
  },
  {
   "cell_type": "code",
   "execution_count": 240,
   "metadata": {},
   "outputs": [
    {
     "name": "stdout",
     "output_type": "stream",
     "text": [
      "No Skill: ROC AUC=0.500\n",
      "XGBoost: ROC AUC=0.805\n"
     ]
    },
    {
     "data": {
      "image/png": "[encoded data removed]",
      "text/plain": [
       "<Figure size 432x288 with 1 Axes>"
      ]
     },
     "metadata": {
      "needs_background": "light"
     },
     "output_type": "display_data"
    }
   ],
   "source": [
    "ns_probs = [0 for _ in range(len(test_label))]\n",
    "lr_probs = xgb_model.predict_proba(test_output)\n",
    "lr_probs = lr_probs[:, 1]\n",
    "ns_auc = roc_auc_score(test_label, ns_probs)\n",
    "lr_auc = roc_auc_score(test_label, lr_probs)\n",
    "print('No Skill: ROC AUC=%.3f' % (ns_auc))\n",
    "print('XGBoost: ROC AUC=%.3f' % (lr_auc))\n",
    "ns_fpr, ns_tpr, _ = roc_curve(test_label, ns_probs)\n",
    "lr_fpr, lr_tpr, _ = roc_curve(test_label, lr_probs)\n",
    "pyplot.plot(ns_fpr, ns_tpr, linestyle='--', label='No Skill')\n",
    "pyplot.plot(lr_fpr, lr_tpr, marker='.', label='XGBoost')\n",
    "pyplot.xlabel('False Positive Rate')\n",
    "pyplot.ylabel('True Positive Rate')\n",
    "pyplot.legend()\n",
    "pyplot.show()"
   ]
  },
  {
   "cell_type": "markdown",
   "metadata": {},
   "source": [
    "# LSTM"
   ]
  },
  {
   "cell_type": "code",
   "execution_count": 242,
   "metadata": {},
   "outputs": [
    {
     "name": "stdout",
     "output_type": "stream",
     "text": [
      "^C\n",
      "Requirement already satisfied: keras in d:\\anaconda\\lib\\site-packages (2.4.3)\n",
      "Requirement already satisfied: scipy>=0.14 in d:\\anaconda\\lib\\site-packages (from keras) (1.3.1)\n",
      "Requirement already satisfied: pyyaml in d:\\anaconda\\lib\\site-packages (from keras) (5.1.2)\n",
      "Requirement already satisfied: numpy>=1.9.1 in d:\\anaconda\\lib\\site-packages (from keras) (1.16.5)\n",
      "Requirement already satisfied: h5py in d:\\anaconda\\lib\\site-packages (from keras) (2.10.0)\n",
      "Requirement already satisfied: six in d:\\anaconda\\lib\\site-packages (from h5py->keras) (1.12.0)\n"
     ]
    }
   ],
   "source": [
    "!pip install tensorflow\n",
    "!pip install keras"
   ]
  },
  {
   "cell_type": "code",
   "execution_count": 309,
   "metadata": {},
   "outputs": [],
   "source": [
    "from keras.models import Sequential\n",
    "from keras.layers import Dense\n",
    "from keras.layers import LSTM\n",
    "from keras.layers import *\n",
    "from keras.preprocessing.sequence import pad_sequences"
   ]
  },
  {
   "cell_type": "code",
   "execution_count": 310,
   "metadata": {},
   "outputs": [
    {
     "data": {
      "text/plain": [
       "((851, 100), (851,))"
      ]
     },
     "execution_count": 310,
     "metadata": {},
     "output_type": "execute_result"
    }
   ],
   "source": [
    "np.array(output).shape, np.array(labels).shape"
   ]
  },
  {
   "cell_type": "code",
   "execution_count": 311,
   "metadata": {},
   "outputs": [
    {
     "name": "stdout",
     "output_type": "stream",
     "text": [
      "Epoch 1/5\n",
      "WARNING:tensorflow:Model was constructed with shape (None, 200) for input Tensor(\"embedding_2_input:0\", shape=(None, 200), dtype=float32), but it was called on an input with incompatible shape (None, 100).\n",
      "WARNING:tensorflow:Model was constructed with shape (None, 200) for input Tensor(\"embedding_2_input:0\", shape=(None, 200), dtype=float32), but it was called on an input with incompatible shape (None, 100).\n",
      "23/23 [==============================] - ETA: 0s - loss: 8.0731 - accuracy: 0.4706WARNING:tensorflow:Model was constructed with shape (None, 200) for input Tensor(\"embedding_2_input:0\", shape=(None, 200), dtype=float32), but it was called on an input with incompatible shape (None, 100).\n",
      "23/23 [==============================] - 7s 304ms/step - loss: 8.0731 - accuracy: 0.4706 - val_loss: 8.2043 - val_accuracy: 0.4620\n",
      "Epoch 2/5\n",
      "23/23 [==============================] - 5s 202ms/step - loss: 8.0731 - accuracy: 0.4706 - val_loss: 8.2043 - val_accuracy: 0.4620\n",
      "Epoch 3/5\n",
      "23/23 [==============================] - 5s 202ms/step - loss: 8.0731 - accuracy: 0.4706 - val_loss: 8.2043 - val_accuracy: 0.4620\n",
      "Epoch 4/5\n",
      "23/23 [==============================] - 5s 235ms/step - loss: 8.0731 - accuracy: 0.4706 - val_loss: 8.2043 - val_accuracy: 0.4620\n",
      "Epoch 5/5\n",
      "23/23 [==============================] - 5s 219ms/step - loss: 8.0731 - accuracy: 0.4706 - val_loss: 8.2043 - val_accuracy: 0.4620\n"
     ]
    },
    {
     "data": {
      "text/plain": [
       "<tensorflow.python.keras.callbacks.History at 0x26ab029f208>"
      ]
     },
     "execution_count": 311,
     "metadata": {},
     "output_type": "execute_result"
    }
   ],
   "source": [
    "MAX_SEQUENCE_LENGTH = 200\n",
    "lstm_model = Sequential()\n",
    "lstm_model.add(Embedding(input_dim=vocab_size,\n",
    "                    output_dim=embedding_size,\n",
    "                    weights=[w2v_weights],\n",
    "                    input_length=MAX_SEQUENCE_LENGTH,\n",
    "                    mask_zero=True,\n",
    "                    trainable=False))\n",
    "lstm_model.add(Bidirectional(LSTM(200)))\n",
    "lstm_model.add(Dense(1,activation='softmax'))\n",
    "lstm_model.compile(loss='binary_crossentropy', optimizer='adam', metrics=['accuracy'])\n",
    "lstm_model.fit(np.array(train_output), np.array(train_label), epochs=5, batch_size=30, validation_data = (test_output, test_label), verbose=1)"
   ]
  },
  {
   "cell_type": "markdown",
   "metadata": {},
   "source": [
    "# doc2vec"
   ]
  },
  {
   "cell_type": "code",
   "execution_count": 531,
   "metadata": {},
   "outputs": [],
   "source": [
    "from gensim.models.doc2vec import Doc2Vec, TaggedDocument\n",
    "from tqdm import tqdm"
   ]
  },
  {
   "cell_type": "code",
   "execution_count": 532,
   "metadata": {},
   "outputs": [
    {
     "name": "stderr",
     "output_type": "stream",
     "text": [
      "\n",
      "\n",
      "\n",
      "100%|████████████████████████████████████████████████████████████████████████████| 851/851 [00:00<00:00, 854320.90it/s]\u001b[A\u001b[A\u001b[A\n"
     ]
    }
   ],
   "source": [
    "def tagged_document(list_of_list_of_words):\n",
    "    for i, list_of_words in enumerate(list_of_list_of_words):\n",
    "        yield gensim.models.doc2vec.TaggedDocument(list_of_words, [i])\n",
    "data_for_training = list(tagged_document(tokens))\n",
    "model_doc = Doc2Vec(vector_size=100, min_count=2, epochs=30, workers=4, window=7)\n",
    "model_doc.build_vocab([x for x in tqdm(data_for_training)])\n",
    "model_doc.train(data_for_training, total_examples=model_doc.corpus_count, epochs=model_doc.epochs)\n",
    "vec_list = []\n",
    "for i in range(len(labels)):\n",
    "    vec_list.append(model_doc.infer_vector(data_for_training[i].words, steps=20))"
   ]
  },
  {
   "cell_type": "markdown",
   "metadata": {},
   "source": [
    "# split data"
   ]
  },
  {
   "cell_type": "code",
   "execution_count": 534,
   "metadata": {},
   "outputs": [],
   "source": [
    "labels2 = np.asarray(labels)\n",
    "output2 = np.asarray(vec_list)\n",
    "train_output2, test_output2, train_label2, test_label2 = train_test_split(output2, labels2, test_size=0.2, random_state=42)"
   ]
  },
  {
   "cell_type": "markdown",
   "metadata": {},
   "source": [
    "# logistic regression"
   ]
  },
  {
   "cell_type": "code",
   "execution_count": 338,
   "metadata": {},
   "outputs": [
    {
     "name": "stdout",
     "output_type": "stream",
     "text": [
      "0.6549707602339181\n"
     ]
    }
   ],
   "source": [
    "clf2 = LogisticRegression(random_state=0, solver='lbfgs').fit(train_output2, train_label2)\n",
    "score2 = clf2.score(test_output2, test_label2)\n",
    "print(score2)"
   ]
  },
  {
   "cell_type": "code",
   "execution_count": 492,
   "metadata": {},
   "outputs": [
    {
     "data": {
      "text/plain": [
       "array([[304,  56],\n",
       "       [142, 178]], dtype=int64)"
      ]
     },
     "execution_count": 492,
     "metadata": {},
     "output_type": "execute_result"
    }
   ],
   "source": [
    "out2 = clf2.predict(train_output2)\n",
    "confusion_matrix(train_label2, out2 )"
   ]
  },
  {
   "cell_type": "code",
   "execution_count": null,
   "metadata": {},
   "outputs": [],
   "source": []
  },
  {
   "cell_type": "code",
   "execution_count": 356,
   "metadata": {},
   "outputs": [
    {
     "name": "stdout",
     "output_type": "stream",
     "text": [
      "No Skill: ROC AUC=0.500\n",
      "Logistic: ROC AUC=0.698\n"
     ]
    },
    {
     "data": {
      "image/png": "[encoded data removed]",
      "text/plain": [
       "<Figure size 432x288 with 1 Axes>"
      ]
     },
     "metadata": {
      "needs_background": "light"
     },
     "output_type": "display_data"
    }
   ],
   "source": [
    "ns_probs = [0 for _ in range(len(test_label2))]\n",
    "lr_probs = clf2.predict_proba(test_output2)\n",
    "lr_probs = lr_probs[:, 1]\n",
    "ns_auc = roc_auc_score(test_label2, ns_probs)\n",
    "lr_auc = roc_auc_score(test_label2, lr_probs)\n",
    "print('No Skill: ROC AUC=%.3f' % (ns_auc))\n",
    "print('Logistic: ROC AUC=%.3f' % (lr_auc))\n",
    "ns_fpr, ns_tpr, _ = roc_curve(test_label2, ns_probs)\n",
    "lr_fpr, lr_tpr, _ = roc_curve(test_label2, lr_probs)\n",
    "pyplot.plot(ns_fpr, ns_tpr, linestyle='--', label='No Skill')\n",
    "pyplot.plot(lr_fpr, lr_tpr, marker='.', label='Logistic')\n",
    "pyplot.xlabel('False Positive Rate')\n",
    "pyplot.ylabel('True Positive Rate')\n",
    "pyplot.legend()\n",
    "pyplot.show()"
   ]
  },
  {
   "cell_type": "markdown",
   "metadata": {},
   "source": [
    "# XGBoost"
   ]
  },
  {
   "cell_type": "code",
   "execution_count": 536,
   "metadata": {},
   "outputs": [
    {
     "name": "stdout",
     "output_type": "stream",
     "text": [
      "[[66 26]\n",
      " [27 52]]\n"
     ]
    }
   ],
   "source": [
    "xgb_model2 = xgb.XGBClassifier(objective=\"binary:logistic\", random_state=42)\n",
    "xgb_model2.fit(np.array(train_output2), np.array(train_label2))\n",
    "print(confusion_matrix(test_label2, xgb_model.predict(test_output2)))"
   ]
  },
  {
   "cell_type": "code",
   "execution_count": 353,
   "metadata": {},
   "outputs": [
    {
     "data": {
      "text/plain": [
       "0.5906432748538012"
      ]
     },
     "execution_count": 353,
     "metadata": {},
     "output_type": "execute_result"
    }
   ],
   "source": [
    "(91+10)/(91+10+1+69)"
   ]
  },
  {
   "cell_type": "code",
   "execution_count": 26,
   "metadata": {},
   "outputs": [
    {
     "name": "stdout",
     "output_type": "stream",
     "text": [
      "No Skill: ROC AUC=0.500\n",
      "XGBoost: ROC AUC=0.605\n"
     ]
    },
    {
     "data": {
      "image/png": "[encoded data removed]",
      "text/plain": [
       "<Figure size 432x288 with 1 Axes>"
      ]
     },
     "metadata": {
      "needs_background": "light"
     },
     "output_type": "display_data"
    }
   ],
   "source": [
    "ns_probs = [0 for _ in range(len(test_label2))]\n",
    "lr_probs = xgb_model2.predict_proba(test_output2)\n",
    "lr_probs = lr_probs[:, 1]\n",
    "ns_auc = roc_auc_score(test_label2, ns_probs)\n",
    "lr_auc = roc_auc_score(test_label2, lr_probs)\n",
    "print('No Skill: ROC AUC=%.3f' % (ns_auc))\n",
    "print('XGBoost: ROC AUC=%.3f' % (lr_auc))\n",
    "ns_fpr, ns_tpr, _ = roc_curve(test_label2, ns_probs)\n",
    "lr_fpr, lr_tpr, _ = roc_curve(test_label2, lr_probs)\n",
    "pyplot.plot(ns_fpr, ns_tpr, linestyle='--', label='No Skill')\n",
    "pyplot.plot(lr_fpr, lr_tpr, marker='.', label='XGBoost')\n",
    "pyplot.xlabel('False Positive Rate')\n",
    "pyplot.ylabel('True Positive Rate')\n",
    "pyplot.legend()\n",
    "pyplot.show()"
   ]
  },
  {
   "cell_type": "markdown",
   "metadata": {},
   "source": [
    "# LSTM"
   ]
  },
  {
   "cell_type": "code",
   "execution_count": 358,
   "metadata": {},
   "outputs": [
    {
     "name": "stdout",
     "output_type": "stream",
     "text": [
      "Epoch 1/5\n",
      "WARNING:tensorflow:Model was constructed with shape (None, 200) for input Tensor(\"embedding_3_input:0\", shape=(None, 200), dtype=float32), but it was called on an input with incompatible shape (None, 100).\n",
      "WARNING:tensorflow:Model was constructed with shape (None, 200) for input Tensor(\"embedding_3_input:0\", shape=(None, 200), dtype=float32), but it was called on an input with incompatible shape (None, 100).\n",
      "29/29 [==============================] - 2s 75ms/step - loss: 8.0995 - accuracy: 0.4689\n",
      "Epoch 2/5\n",
      "29/29 [==============================] - 2s 74ms/step - loss: 8.0995 - accuracy: 0.4689\n",
      "Epoch 3/5\n",
      "29/29 [==============================] - 2s 82ms/step - loss: 8.0995 - accuracy: 0.4689\n",
      "Epoch 4/5\n",
      "29/29 [==============================] - 2s 77ms/step - loss: 8.0995 - accuracy: 0.4689\n",
      "Epoch 5/5\n",
      "29/29 [==============================] - 2s 62ms/step - loss: 8.0995 - accuracy: 0.4689\n"
     ]
    },
    {
     "data": {
      "text/plain": [
       "<tensorflow.python.keras.callbacks.History at 0x26ac3b6e0c8>"
      ]
     },
     "execution_count": 358,
     "metadata": {},
     "output_type": "execute_result"
    }
   ],
   "source": [
    "MAX_SEQUENCE_LENGTH = 200\n",
    "lstm_model2 = Sequential()\n",
    "lstm_model2.add(Embedding(input_dim=vocab_size,\n",
    "                    output_dim=embedding_size,\n",
    "                    weights=[w2v_weights],\n",
    "                    input_length=MAX_SEQUENCE_LENGTH,\n",
    "                    mask_zero=True,\n",
    "                    trainable=False))\n",
    "lstm_model2.add(Bidirectional(LSTM(100)))\n",
    "lstm_model2.add(Dense(1,activation='softmax'))\n",
    "lstm_model2.compile(loss='binary_crossentropy', optimizer='adam', metrics=['accuracy'])\n",
    "lstm_model2.fit(np.array(vec_list), np.array(labels), epochs=5, batch_size=30, verbose=1)"
   ]
  },
  {
   "cell_type": "code",
   "execution_count": null,
   "metadata": {},
   "outputs": [],
   "source": []
  }
 ],
 "metadata": {
  "kernelspec": {
   "display_name": "Python 3",
   "language": "python",
   "name": "python3"
  },
  "language_info": {
   "codemirror_mode": {
    "name": "ipython",
    "version": 3
   },
   "file_extension": ".py",
   "mimetype": "text/x-python",
   "name": "python",
   "nbconvert_exporter": "python",
   "pygments_lexer": "ipython3",
   "version": "3.7.4"
  }
 },
 "nbformat": 4,
 "nbformat_minor": 2
}
